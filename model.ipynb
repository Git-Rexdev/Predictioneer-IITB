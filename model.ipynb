{
 "cells": [
  {
   "cell_type": "code",
   "execution_count": 1,
   "metadata": {},
   "outputs": [],
   "source": [
    "import matplotlib.pyplot as plt\n",
    "import numpy as np\n",
    "import pandas as pd\n",
    "import seaborn as sns\n",
    "from sklearn.preprocessing import LabelEncoder"
   ]
  },
  {
   "cell_type": "code",
   "execution_count": 2,
   "metadata": {},
   "outputs": [],
   "source": [
    "df = pd.read_csv('cleandata.csv')"
   ]
  },
  {
   "cell_type": "code",
   "execution_count": 3,
   "metadata": {},
   "outputs": [
    {
     "data": {
      "text/plain": [
       "<bound method NDFrame.head of       Unnamed: 0        Lat       Long_  Deaths  Case_Fatality_Ratio  \\\n",
       "0              0  33.939110   67.709953   549.0             3.779217   \n",
       "1              1  41.153300   20.168300   142.0             1.077234   \n",
       "2              2  28.033900    1.659600   268.0             2.536905   \n",
       "3              3  42.506300    1.521800   165.0             0.345543   \n",
       "4              4 -11.202700   17.873900   246.0             1.836434   \n",
       "...          ...        ...         ...     ...                  ...   \n",
       "3967        4011  31.952200   35.233200   126.0             0.811686   \n",
       "3968        4012  39.904200  116.407400     0.0             0.000000   \n",
       "3969        4013  15.552727   48.516388  2347.0            18.074508   \n",
       "3970        4014 -13.133897   27.849332   179.0             1.201603   \n",
       "3971        4015 -19.015438   29.154857   307.0             2.168235   \n",
       "\n",
       "      confirmed cases  \n",
       "0             14527.0  \n",
       "1             13182.0  \n",
       "2             10564.0  \n",
       "3             47751.0  \n",
       "4             13396.0  \n",
       "...               ...  \n",
       "3967          15523.0  \n",
       "3968              NaN  \n",
       "3969          12985.0  \n",
       "3970          14897.0  \n",
       "3971          14159.0  \n",
       "\n",
       "[3972 rows x 6 columns]>"
      ]
     },
     "execution_count": 3,
     "metadata": {},
     "output_type": "execute_result"
    }
   ],
   "source": [
    "df.head"
   ]
  },
  {
   "cell_type": "code",
   "execution_count": 4,
   "metadata": {},
   "outputs": [],
   "source": [
    "label_encoder = LabelEncoder()"
   ]
  },
  {
   "cell_type": "code",
   "execution_count": 5,
   "metadata": {},
   "outputs": [
    {
     "data": {
      "text/plain": [
       "(3972, 6)"
      ]
     },
     "execution_count": 5,
     "metadata": {},
     "output_type": "execute_result"
    }
   ],
   "source": [
    "df.shape"
   ]
  },
  {
   "cell_type": "code",
   "execution_count": 6,
   "metadata": {},
   "outputs": [
    {
     "data": {
      "text/plain": [
       "<bound method NDFrame.tail of       Unnamed: 0        Lat       Long_  Deaths  Case_Fatality_Ratio  \\\n",
       "0              0  33.939110   67.709953   549.0             3.779217   \n",
       "1              1  41.153300   20.168300   142.0             1.077234   \n",
       "2              2  28.033900    1.659600   268.0             2.536905   \n",
       "3              3  42.506300    1.521800   165.0             0.345543   \n",
       "4              4 -11.202700   17.873900   246.0             1.836434   \n",
       "...          ...        ...         ...     ...                  ...   \n",
       "3967        4011  31.952200   35.233200   126.0             0.811686   \n",
       "3968        4012  39.904200  116.407400     0.0             0.000000   \n",
       "3969        4013  15.552727   48.516388  2347.0            18.074508   \n",
       "3970        4014 -13.133897   27.849332   179.0             1.201603   \n",
       "3971        4015 -19.015438   29.154857   307.0             2.168235   \n",
       "\n",
       "      confirmed cases  \n",
       "0             14527.0  \n",
       "1             13182.0  \n",
       "2             10564.0  \n",
       "3             47751.0  \n",
       "4             13396.0  \n",
       "...               ...  \n",
       "3967          15523.0  \n",
       "3968              NaN  \n",
       "3969          12985.0  \n",
       "3970          14897.0  \n",
       "3971          14159.0  \n",
       "\n",
       "[3972 rows x 6 columns]>"
      ]
     },
     "execution_count": 6,
     "metadata": {},
     "output_type": "execute_result"
    }
   ],
   "source": [
    "df.tail"
   ]
  },
  {
   "cell_type": "code",
   "execution_count": 7,
   "metadata": {},
   "outputs": [
    {
     "name": "stdout",
     "output_type": "stream",
     "text": [
      "<class 'pandas.core.frame.DataFrame'>\n",
      "RangeIndex: 3972 entries, 0 to 3971\n",
      "Data columns (total 6 columns):\n",
      " #   Column               Non-Null Count  Dtype  \n",
      "---  ------               --------------  -----  \n",
      " 0   Unnamed: 0           3972 non-null   int64  \n",
      " 1   Lat                  3972 non-null   float64\n",
      " 2   Long_                3972 non-null   float64\n",
      " 3   Deaths               3972 non-null   float64\n",
      " 4   Case_Fatality_Ratio  3972 non-null   float64\n",
      " 5   confirmed cases      3840 non-null   float64\n",
      "dtypes: float64(5), int64(1)\n",
      "memory usage: 186.3 KB\n"
     ]
    }
   ],
   "source": [
    "df.info()"
   ]
  },
  {
   "cell_type": "code",
   "execution_count": 8,
   "metadata": {},
   "outputs": [
    {
     "name": "stderr",
     "output_type": "stream",
     "text": [
      "c:\\Users\\devza\\AppData\\Local\\Programs\\Python\\Python312\\Lib\\site-packages\\pandas\\core\\nanops.py:1016: RuntimeWarning: invalid value encountered in subtract\n",
      "  sqr = _ensure_numeric((avg - values) ** 2)\n"
     ]
    },
    {
     "data": {
      "text/html": [
       "<div>\n",
       "<style scoped>\n",
       "    .dataframe tbody tr th:only-of-type {\n",
       "        vertical-align: middle;\n",
       "    }\n",
       "\n",
       "    .dataframe tbody tr th {\n",
       "        vertical-align: top;\n",
       "    }\n",
       "\n",
       "    .dataframe thead th {\n",
       "        text-align: right;\n",
       "    }\n",
       "</style>\n",
       "<table border=\"1\" class=\"dataframe\">\n",
       "  <thead>\n",
       "    <tr style=\"text-align: right;\">\n",
       "      <th></th>\n",
       "      <th>count</th>\n",
       "      <th>mean</th>\n",
       "      <th>std</th>\n",
       "      <th>min</th>\n",
       "      <th>25%</th>\n",
       "      <th>50%</th>\n",
       "      <th>75%</th>\n",
       "      <th>max</th>\n",
       "    </tr>\n",
       "  </thead>\n",
       "  <tbody>\n",
       "    <tr>\n",
       "      <th>Unnamed: 0</th>\n",
       "      <td>3972.0</td>\n",
       "      <td>2009.324018</td>\n",
       "      <td>1158.460376</td>\n",
       "      <td>0.0000</td>\n",
       "      <td>1009.750000</td>\n",
       "      <td>2011.500000</td>\n",
       "      <td>3012.250000</td>\n",
       "      <td>4015.000000</td>\n",
       "    </tr>\n",
       "    <tr>\n",
       "      <th>Lat</th>\n",
       "      <td>3972.0</td>\n",
       "      <td>35.747662</td>\n",
       "      <td>13.350749</td>\n",
       "      <td>-71.9499</td>\n",
       "      <td>33.235227</td>\n",
       "      <td>37.895700</td>\n",
       "      <td>42.056212</td>\n",
       "      <td>71.706900</td>\n",
       "    </tr>\n",
       "    <tr>\n",
       "      <th>Long_</th>\n",
       "      <td>3972.0</td>\n",
       "      <td>-71.283427</td>\n",
       "      <td>55.020503</td>\n",
       "      <td>-178.1165</td>\n",
       "      <td>-96.424580</td>\n",
       "      <td>-86.717326</td>\n",
       "      <td>-77.474545</td>\n",
       "      <td>178.065000</td>\n",
       "    </tr>\n",
       "    <tr>\n",
       "      <th>Deaths</th>\n",
       "      <td>3972.0</td>\n",
       "      <td>86.993706</td>\n",
       "      <td>114.432817</td>\n",
       "      <td>0.0000</td>\n",
       "      <td>42.750000</td>\n",
       "      <td>76.000000</td>\n",
       "      <td>108.000000</td>\n",
       "      <td>5375.000000</td>\n",
       "    </tr>\n",
       "    <tr>\n",
       "      <th>Case_Fatality_Ratio</th>\n",
       "      <td>3972.0</td>\n",
       "      <td>3.904119</td>\n",
       "      <td>123.020033</td>\n",
       "      <td>0.0000</td>\n",
       "      <td>0.890466</td>\n",
       "      <td>1.285465</td>\n",
       "      <td>1.737771</td>\n",
       "      <td>7570.769231</td>\n",
       "    </tr>\n",
       "    <tr>\n",
       "      <th>confirmed cases</th>\n",
       "      <td>3840.0</td>\n",
       "      <td>inf</td>\n",
       "      <td>NaN</td>\n",
       "      <td>0.0000</td>\n",
       "      <td>3533.750000</td>\n",
       "      <td>6169.000000</td>\n",
       "      <td>10069.500000</td>\n",
       "      <td>inf</td>\n",
       "    </tr>\n",
       "  </tbody>\n",
       "</table>\n",
       "</div>"
      ],
      "text/plain": [
       "                      count         mean          std       min          25%  \\\n",
       "Unnamed: 0           3972.0  2009.324018  1158.460376    0.0000  1009.750000   \n",
       "Lat                  3972.0    35.747662    13.350749  -71.9499    33.235227   \n",
       "Long_                3972.0   -71.283427    55.020503 -178.1165   -96.424580   \n",
       "Deaths               3972.0    86.993706   114.432817    0.0000    42.750000   \n",
       "Case_Fatality_Ratio  3972.0     3.904119   123.020033    0.0000     0.890466   \n",
       "confirmed cases      3840.0          inf          NaN    0.0000  3533.750000   \n",
       "\n",
       "                             50%           75%          max  \n",
       "Unnamed: 0           2011.500000   3012.250000  4015.000000  \n",
       "Lat                    37.895700     42.056212    71.706900  \n",
       "Long_                 -86.717326    -77.474545   178.065000  \n",
       "Deaths                 76.000000    108.000000  5375.000000  \n",
       "Case_Fatality_Ratio     1.285465      1.737771  7570.769231  \n",
       "confirmed cases      6169.000000  10069.500000          inf  "
      ]
     },
     "execution_count": 8,
     "metadata": {},
     "output_type": "execute_result"
    }
   ],
   "source": [
    "df.describe().T"
   ]
  },
  {
   "cell_type": "code",
   "execution_count": 9,
   "metadata": {},
   "outputs": [
    {
     "data": {
      "text/plain": [
       "Unnamed: 0               0\n",
       "Lat                      0\n",
       "Long_                    0\n",
       "Deaths                   0\n",
       "Case_Fatality_Ratio      0\n",
       "confirmed cases        132\n",
       "dtype: int64"
      ]
     },
     "execution_count": 9,
     "metadata": {},
     "output_type": "execute_result"
    }
   ],
   "source": [
    "df.isnull().sum()"
   ]
  },
  {
   "cell_type": "code",
   "execution_count": 10,
   "metadata": {},
   "outputs": [],
   "source": [
    "cat_cols= df.select_dtypes(include= 'O').columns.tolist()"
   ]
  },
  {
   "cell_type": "code",
   "execution_count": 11,
   "metadata": {},
   "outputs": [
    {
     "data": {
      "text/plain": [
       "[]"
      ]
     },
     "execution_count": 11,
     "metadata": {},
     "output_type": "execute_result"
    }
   ],
   "source": [
    "cat_cols"
   ]
  },
  {
   "cell_type": "code",
   "execution_count": 12,
   "metadata": {},
   "outputs": [],
   "source": [
    "for col in cat_cols:\n",
    "    print(df[col].value_counts())"
   ]
  },
  {
   "cell_type": "code",
   "execution_count": 13,
   "metadata": {},
   "outputs": [
    {
     "data": {
      "text/plain": [
       "(3972, 6)"
      ]
     },
     "execution_count": 13,
     "metadata": {},
     "output_type": "execute_result"
    }
   ],
   "source": [
    "df.shape"
   ]
  },
  {
   "cell_type": "code",
   "execution_count": 14,
   "metadata": {},
   "outputs": [],
   "source": [
    "df.replace([np.inf, -np.inf], np.nan, inplace= True)\n",
    "# Outliers in data"
   ]
  },
  {
   "cell_type": "code",
   "execution_count": 15,
   "metadata": {},
   "outputs": [
    {
     "data": {
      "text/plain": [
       "<Figure size 300x300 with 0 Axes>"
      ]
     },
     "execution_count": 15,
     "metadata": {},
     "output_type": "execute_result"
    },
    {
     "data": {
      "text/plain": [
       "<Figure size 300x300 with 0 Axes>"
      ]
     },
     "metadata": {},
     "output_type": "display_data"
    }
   ],
   "source": [
    "plt.figure(figsize=(3,3))"
   ]
  },
  {
   "cell_type": "code",
   "execution_count": 16,
   "metadata": {},
   "outputs": [
    {
     "data": {
      "image/png": "[encoded data removed]",
      "text/plain": [
       "<Figure size 500x500 with 1 Axes>"
      ]
     },
     "metadata": {},
     "output_type": "display_data"
    }
   ],
   "source": [
    "df.boxplot(figsize= (5,5))\n",
    "plt.show()"
   ]
  },
  {
   "cell_type": "code",
   "execution_count": 17,
   "metadata": {},
   "outputs": [
    {
     "data": {
      "text/plain": [
       "<Axes: ylabel='Lat'>"
      ]
     },
     "execution_count": 17,
     "metadata": {},
     "output_type": "execute_result"
    },
    {
     "data": {
      "image/png": "[encoded data removed]",
      "text/plain": [
       "<Figure size 300x300 with 1 Axes>"
      ]
     },
     "metadata": {},
     "output_type": "display_data"
    }
   ],
   "source": [
    "plt.figure(figsize=(3,3))\n",
    "sns.boxplot(df['Lat'])"
   ]
  },
  {
   "cell_type": "code",
   "execution_count": 18,
   "metadata": {},
   "outputs": [
    {
     "data": {
      "text/plain": [
       "<Axes: ylabel='Long_'>"
      ]
     },
     "execution_count": 18,
     "metadata": {},
     "output_type": "execute_result"
    },
    {
     "data": {
      "image/png": "[encoded data removed]",
      "text/plain": [
       "<Figure size 300x300 with 1 Axes>"
      ]
     },
     "metadata": {},
     "output_type": "display_data"
    }
   ],
   "source": [
    "plt.figure(figsize=(3,3))\n",
    "sns.boxplot(df['Long_'])"
   ]
  },
  {
   "cell_type": "code",
   "execution_count": 19,
   "metadata": {},
   "outputs": [
    {
     "data": {
      "text/plain": [
       "<Axes: ylabel='Deaths'>"
      ]
     },
     "execution_count": 19,
     "metadata": {},
     "output_type": "execute_result"
    },
    {
     "data": {
      "image/png": "[encoded data removed]",
      "text/plain": [
       "<Figure size 300x300 with 1 Axes>"
      ]
     },
     "metadata": {},
     "output_type": "display_data"
    }
   ],
   "source": [
    "plt.figure(figsize=(3,3))\n",
    "sns.boxplot(df['Deaths'])"
   ]
  },
  {
   "cell_type": "code",
   "execution_count": 20,
   "metadata": {},
   "outputs": [
    {
     "data": {
      "text/plain": [
       "<Axes: ylabel='Case_Fatality_Ratio'>"
      ]
     },
     "execution_count": 20,
     "metadata": {},
     "output_type": "execute_result"
    },
    {
     "data": {
      "image/png": "[encoded data removed]",
      "text/plain": [
       "<Figure size 300x300 with 1 Axes>"
      ]
     },
     "metadata": {},
     "output_type": "display_data"
    }
   ],
   "source": [
    "plt.figure(figsize=(3,3))\n",
    "sns.boxplot(df['Case_Fatality_Ratio'])"
   ]
  },
  {
   "cell_type": "code",
   "execution_count": 21,
   "metadata": {},
   "outputs": [
    {
     "name": "stdout",
     "output_type": "stream",
     "text": [
      "Skewness:  27.47812350533922\n"
     ]
    }
   ],
   "source": [
    "from scipy.stats import skew\n",
    "\n",
    "skewness = skew(df['Deaths'])\n",
    "print('Skewness: ', skewness)"
   ]
  },
  {
   "cell_type": "code",
   "execution_count": 22,
   "metadata": {},
   "outputs": [],
   "source": [
    "q1 = df['Deaths'].quantile(0.25)\n",
    "q3 = df['Deaths'].quantile(0.75)\n",
    "\n",
    "iqr = q3- q1"
   ]
  },
  {
   "cell_type": "code",
   "execution_count": 23,
   "metadata": {},
   "outputs": [],
   "source": [
    "lower_limit = q1- 1.5 * iqr\n",
    "upper_limit = q3 +1.5 * iqr\n",
    "\n",
    "df = df[(df['Deaths'] >= lower_limit) &\n",
    "        (df['Deaths'] <= upper_limit)]"
   ]
  },
  {
   "cell_type": "code",
   "execution_count": 24,
   "metadata": {},
   "outputs": [
    {
     "data": {
      "text/plain": [
       "(3814, 6)"
      ]
     },
     "execution_count": 24,
     "metadata": {},
     "output_type": "execute_result"
    }
   ],
   "source": [
    "df.shape"
   ]
  },
  {
   "cell_type": "code",
   "execution_count": 25,
   "metadata": {},
   "outputs": [],
   "source": [
    "# # Pair Plot\n",
    "# plt.figure(figsize= (5,3))\n",
    "\n",
    "# for i, col in  enumerate(num_cols, 1):\n",
    "#     plt.subplot(2,3,i)\n",
    "#     sns.histplot(data= df, x= col)\n",
    "# plt.show()"
   ]
  },
  {
   "cell_type": "code",
   "execution_count": 26,
   "metadata": {},
   "outputs": [
    {
     "data": {
      "text/plain": [
       "<Axes: >"
      ]
     },
     "execution_count": 26,
     "metadata": {},
     "output_type": "execute_result"
    },
    {
     "data": {
      "image/png": "[encoded data removed]",
      "text/plain": [
       "<Figure size 700x500 with 2 Axes>"
      ]
     },
     "metadata": {},
     "output_type": "display_data"
    }
   ],
   "source": [
    "plt.figure(figsize=(7,5))\n",
    "sns.heatmap(df.corr(numeric_only= True), annot= True, cmap= 'coolwarm', linewidths=2)"
   ]
  },
  {
   "cell_type": "code",
   "execution_count": 27,
   "metadata": {},
   "outputs": [],
   "source": [
    "from sklearn.model_selection import train_test_split"
   ]
  },
  {
   "cell_type": "code",
   "execution_count": 28,
   "metadata": {},
   "outputs": [],
   "source": [
    "x= df.drop(['Case_Fatality_Ratio'], axis= 1)\n",
    "y= df['Deaths']"
   ]
  },
  {
   "cell_type": "code",
   "execution_count": 29,
   "metadata": {},
   "outputs": [],
   "source": [
    "# Splitting Data Into Train and test\n",
    "X_train, X_test, y_train, y_test= train_test_split(x,y, test_size=0.2, random_state=42)"
   ]
  },
  {
   "cell_type": "code",
   "execution_count": 30,
   "metadata": {},
   "outputs": [],
   "source": [
    "cat_cols= X_train.select_dtypes(include= \"O\").columns.tolist()\n",
    "num_cols= X_train.select_dtypes(exclude= \"O\").columns.tolist()"
   ]
  },
  {
   "cell_type": "code",
   "execution_count": 31,
   "metadata": {},
   "outputs": [
    {
     "data": {
      "text/plain": [
       "[]"
      ]
     },
     "execution_count": 31,
     "metadata": {},
     "output_type": "execute_result"
    }
   ],
   "source": [
    "cat_cols"
   ]
  },
  {
   "cell_type": "code",
   "execution_count": 32,
   "metadata": {},
   "outputs": [],
   "source": [
    "from sklearn.compose import ColumnTransformer\n",
    "from sklearn.preprocessing import OneHotEncoder, StandardScaler"
   ]
  },
  {
   "cell_type": "code",
   "execution_count": 33,
   "metadata": {},
   "outputs": [],
   "source": [
    "# Column Transformation For the Numerical and categorical features\n",
    "enc= OneHotEncoder(handle_unknown= 'ignore')\n",
    "sc= StandardScaler()\n",
    "\n",
    "ct= ColumnTransformer(\n",
    "        [\n",
    "            ('encoding', enc, cat_cols),\n",
    "            ('scaling', sc, num_cols)\n",
    "        ]\n",
    ")"
   ]
  },
  {
   "cell_type": "code",
   "execution_count": 34,
   "metadata": {},
   "outputs": [],
   "source": [
    "X_train= ct.fit_transform(X_train)\n",
    "X_test = ct.transform(X_test)"
   ]
  }
 ],
 "metadata": {
  "kernelspec": {
   "display_name": "Python 3",
   "language": "python",
   "name": "python3"
  },
  "language_info": {
   "codemirror_mode": {
    "name": "ipython",
    "version": 3
   },
   "file_extension": ".py",
   "mimetype": "text/x-python",
   "name": "python",
   "nbconvert_exporter": "python",
   "pygments_lexer": "ipython3",
   "version": "3.12.2"
  }
 },
 "nbformat": 4,
 "nbformat_minor": 2
}
